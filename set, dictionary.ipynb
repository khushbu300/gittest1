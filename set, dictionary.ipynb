{
 "cells": [
  {
   "cell_type": "code",
   "execution_count": 1,
   "id": "6be29e5f",
   "metadata": {},
   "outputs": [],
   "source": [
    "#python sets "
   ]
  },
  {
   "cell_type": "code",
   "execution_count": 9,
   "id": "1c390d8e",
   "metadata": {},
   "outputs": [],
   "source": [
    "mydata = {\"khushbu\", 23.4, True, False}                    # any data type of data is acceptable"
   ]
  },
  {
   "cell_type": "code",
   "execution_count": 10,
   "id": "0c3f1de2",
   "metadata": {},
   "outputs": [
    {
     "data": {
      "text/plain": [
       "{23.4, False, True, 'khushbu'}"
      ]
     },
     "execution_count": 10,
     "metadata": {},
     "output_type": "execute_result"
    }
   ],
   "source": [
    "mydata                                                     # python set is unorderd."
   ]
  },
  {
   "cell_type": "code",
   "execution_count": 11,
   "id": "f22bf0ad",
   "metadata": {},
   "outputs": [
    {
     "ename": "AttributeError",
     "evalue": "'set' object has no attribute 'append'",
     "output_type": "error",
     "traceback": [
      "\u001b[1;31m---------------------------------------------------------------------------\u001b[0m",
      "\u001b[1;31mAttributeError\u001b[0m                            Traceback (most recent call last)",
      "Input \u001b[1;32mIn [11]\u001b[0m, in \u001b[0;36m<cell line: 1>\u001b[1;34m()\u001b[0m\n\u001b[1;32m----> 1\u001b[0m \u001b[43mmydata\u001b[49m\u001b[38;5;241;43m.\u001b[39;49m\u001b[43mappend\u001b[49m(\u001b[38;5;124m\"\u001b[39m\u001b[38;5;124myogi\u001b[39m\u001b[38;5;124m\"\u001b[39m)\n",
      "\u001b[1;31mAttributeError\u001b[0m: 'set' object has no attribute 'append'"
     ]
    }
   ],
   "source": [
    "mydata.append(\"yogi\")                                             # we can not add elements to the set"
   ]
  },
  {
   "cell_type": "code",
   "execution_count": null,
   "id": "1eb0e3c4",
   "metadata": {},
   "outputs": [],
   "source": []
  },
  {
   "cell_type": "code",
   "execution_count": 1,
   "id": "2d458146",
   "metadata": {},
   "outputs": [],
   "source": [
    "w ={1, 0.2, 5 ,8, 4, 6, 7, 5, 8, 7}"
   ]
  },
  {
   "cell_type": "code",
   "execution_count": 2,
   "id": "fd2dec9d",
   "metadata": {},
   "outputs": [
    {
     "data": {
      "text/plain": [
       "{0.2, 1, 4, 5, 6, 7, 8}"
      ]
     },
     "execution_count": 2,
     "metadata": {},
     "output_type": "execute_result"
    }
   ],
   "source": [
    "w                                                          # sets does not allows duplicate values "
   ]
  },
  {
   "cell_type": "code",
   "execution_count": 12,
   "id": "a94f0e99",
   "metadata": {},
   "outputs": [
    {
     "ename": "TypeError",
     "evalue": "'set' object is not subscriptable",
     "output_type": "error",
     "traceback": [
      "\u001b[1;31m---------------------------------------------------------------------------\u001b[0m",
      "\u001b[1;31mTypeError\u001b[0m                                 Traceback (most recent call last)",
      "Input \u001b[1;32mIn [12]\u001b[0m, in \u001b[0;36m<cell line: 1>\u001b[1;34m()\u001b[0m\n\u001b[1;32m----> 1\u001b[0m \u001b[43mw\u001b[49m\u001b[43m[\u001b[49m\u001b[38;5;241;43m2\u001b[39;49m\u001b[43m]\u001b[49m\n",
      "\u001b[1;31mTypeError\u001b[0m: 'set' object is not subscriptable"
     ]
    }
   ],
   "source": [
    "w[2]                                                      # we cannot access elements using indexing "
   ]
  },
  {
   "cell_type": "code",
   "execution_count": 4,
   "id": "fb716ea5",
   "metadata": {},
   "outputs": [],
   "source": [
    "k =[ \"khushbu\",\"shahare\"]"
   ]
  },
  {
   "cell_type": "code",
   "execution_count": 5,
   "id": "f7691f4f",
   "metadata": {},
   "outputs": [
    {
     "data": {
      "text/plain": [
       "['khushbu', 'shahare']"
      ]
     },
     "execution_count": 5,
     "metadata": {},
     "output_type": "execute_result"
    }
   ],
   "source": [
    "k"
   ]
  },
  {
   "cell_type": "code",
   "execution_count": 6,
   "id": "bd6fa019",
   "metadata": {},
   "outputs": [],
   "source": [
    "k.append(\"yogu\")"
   ]
  },
  {
   "cell_type": "code",
   "execution_count": 7,
   "id": "a54a32b3",
   "metadata": {},
   "outputs": [
    {
     "data": {
      "text/plain": [
       "['khushbu', 'shahare', 'yogu']"
      ]
     },
     "execution_count": 7,
     "metadata": {},
     "output_type": "execute_result"
    }
   ],
   "source": [
    "k"
   ]
  },
  {
   "cell_type": "code",
   "execution_count": null,
   "id": "2e06add2",
   "metadata": {},
   "outputs": [],
   "source": []
  },
  {
   "cell_type": "code",
   "execution_count": 17,
   "id": "8530e62b",
   "metadata": {},
   "outputs": [],
   "source": [
    "k[1]=\"a\""
   ]
  },
  {
   "cell_type": "code",
   "execution_count": 18,
   "id": "8b30e5dc",
   "metadata": {},
   "outputs": [
    {
     "data": {
      "text/plain": [
       "['khushbu', 'a']"
      ]
     },
     "execution_count": 18,
     "metadata": {},
     "output_type": "execute_result"
    }
   ],
   "source": [
    "k"
   ]
  },
  {
   "cell_type": "code",
   "execution_count": 20,
   "id": "a4dd93bb",
   "metadata": {},
   "outputs": [
    {
     "data": {
      "text/plain": [
       "7"
      ]
     },
     "execution_count": 20,
     "metadata": {},
     "output_type": "execute_result"
    }
   ],
   "source": [
    "len(w)"
   ]
  },
  {
   "cell_type": "code",
   "execution_count": 21,
   "id": "7a8a4ea4",
   "metadata": {},
   "outputs": [],
   "source": [
    "# python dict"
   ]
  },
  {
   "cell_type": "code",
   "execution_count": 13,
   "id": "a27432ec",
   "metadata": {},
   "outputs": [],
   "source": [
    "dict = {'fname':\"khushbu\",'lname':\"shahare\",'add':\"sakoli\"}"
   ]
  },
  {
   "cell_type": "code",
   "execution_count": 15,
   "id": "0bf19367",
   "metadata": {},
   "outputs": [
    {
     "data": {
      "text/plain": [
       "{'fname': 'khushbu', 'lname': 'shahare', 'add': 'sakoli'}"
      ]
     },
     "execution_count": 15,
     "metadata": {},
     "output_type": "execute_result"
    }
   ],
   "source": [
    "dict                                                                  # dictionary are ordered"
   ]
  },
  {
   "cell_type": "code",
   "execution_count": 25,
   "id": "cbbcd345",
   "metadata": {},
   "outputs": [
    {
     "data": {
      "text/plain": [
       "'shahare'"
      ]
     },
     "execution_count": 25,
     "metadata": {},
     "output_type": "execute_result"
    }
   ],
   "source": [
    "dict['lname']                               # we can access the elements using key value pair"
   ]
  },
  {
   "cell_type": "code",
   "execution_count": 26,
   "id": "3a560b64",
   "metadata": {},
   "outputs": [],
   "source": [
    "dict['add'] = \"bhandara\"             # we can replace initial key value pair and we can add also new key value pair"
   ]
  },
  {
   "cell_type": "code",
   "execution_count": 27,
   "id": "4bbf5869",
   "metadata": {},
   "outputs": [
    {
     "data": {
      "text/plain": [
       "{'fname': 'khushbu', 'lname': 'shahare', 'add': 'bhandara'}"
      ]
     },
     "execution_count": 27,
     "metadata": {},
     "output_type": "execute_result"
    }
   ],
   "source": [
    "dict"
   ]
  },
  {
   "cell_type": "code",
   "execution_count": 16,
   "id": "3edb1af4",
   "metadata": {},
   "outputs": [],
   "source": [
    "dict[\"gaon\"] = \"nagpur\""
   ]
  },
  {
   "cell_type": "code",
   "execution_count": 17,
   "id": "f939f07e",
   "metadata": {},
   "outputs": [
    {
     "data": {
      "text/plain": [
       "{'fname': 'khushbu', 'lname': 'shahare', 'add': 'sakoli', 'gaon': 'nagpur'}"
      ]
     },
     "execution_count": 17,
     "metadata": {},
     "output_type": "execute_result"
    }
   ],
   "source": [
    "dict"
   ]
  },
  {
   "cell_type": "code",
   "execution_count": 29,
   "id": "efccbf49",
   "metadata": {},
   "outputs": [],
   "source": [
    "mydict = {'name':\"khushbu\",\"occu\":\"teacher\",\"name\":\"assistant professor\"}"
   ]
  },
  {
   "cell_type": "code",
   "execution_count": 31,
   "id": "17addc56",
   "metadata": {},
   "outputs": [
    {
     "data": {
      "text/plain": [
       "{'name': 'assistant professor', 'occu': 'teacher'}"
      ]
     },
     "execution_count": 31,
     "metadata": {},
     "output_type": "execute_result"
    }
   ],
   "source": [
    "mydict                                                 # if we have the same key then it takes final key value "
   ]
  },
  {
   "cell_type": "code",
   "execution_count": 33,
   "id": "151d3c37",
   "metadata": {},
   "outputs": [],
   "source": [
    "m ={1:\"kk\",2:\"ll\"}"
   ]
  },
  {
   "cell_type": "code",
   "execution_count": 34,
   "id": "2cdbc95d",
   "metadata": {},
   "outputs": [
    {
     "data": {
      "text/plain": [
       "'kk'"
      ]
     },
     "execution_count": 34,
     "metadata": {},
     "output_type": "execute_result"
    }
   ],
   "source": [
    "m[1]"
   ]
  },
  {
   "cell_type": "code",
   "execution_count": null,
   "id": "8297b3f7",
   "metadata": {},
   "outputs": [],
   "source": []
  }
 ],
 "metadata": {
  "kernelspec": {
   "display_name": "Python 3 (ipykernel)",
   "language": "python",
   "name": "python3"
  },
  "language_info": {
   "codemirror_mode": {
    "name": "ipython",
    "version": 3
   },
   "file_extension": ".py",
   "mimetype": "text/x-python",
   "name": "python",
   "nbconvert_exporter": "python",
   "pygments_lexer": "ipython3",
   "version": "3.9.12"
  }
 },
 "nbformat": 4,
 "nbformat_minor": 5
}
